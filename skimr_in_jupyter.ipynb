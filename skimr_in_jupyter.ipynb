{
 "cells": [
  {
   "cell_type": "code",
   "execution_count": 5,
   "metadata": {},
   "outputs": [],
   "source": [
    "library(skimr)\n",
    "options(width = 90)"
   ]
  },
  {
   "cell_type": "code",
   "execution_count": 6,
   "metadata": {},
   "outputs": [],
   "source": [
    "z <- skim(iris)"
   ]
  },
  {
   "cell_type": "code",
   "execution_count": 7,
   "metadata": {},
   "outputs": [
    {
     "name": "stdout",
     "output_type": "stream",
     "text": [
      "Data summary  \n",
      "                       Values\n",
      "Name                   `iris`\n",
      "Number of rows            150\n",
      "Number of columns           5\n",
      "Column type frequency        \n",
      "factor                      1\n",
      "numeric                     4\n",
      "Group variables          None\n",
      "── Variable type: factor ─────────────────────────────────────────────────────────────────\n",
      "  skim_variable missing complete     n ordered n_unique top_counts               \n",
      "1 Species             0      150   150 FALSE          3 set: 50, ver: 50, vir: 50\n",
      "── Variable type: numeric ────────────────────────────────────────────────────────────────\n",
      "  skim_variable missing complete     n  mean    sd    p0   p25   p50   p75  p100 hist \n",
      "1 Sepal.Length        0      150   150  5.84 0.828   4.3   5.1  5.8    6.4   7.9 ▆▇▇▅▂\n",
      "2 Sepal.Width         0      150   150  3.06 0.436   2     2.8  3      3.3   4.4 ▁▆▇▂▁\n",
      "3 Petal.Length        0      150   150  3.76 1.77    1     1.6  4.35   5.1   6.9 ▇▁▆▇▂\n",
      "4 Petal.Width         0      150   150  1.20 0.762   0.1   0.3  1.3    1.8   2.5 ▇▁▇▅▃\n"
     ]
    }
   ],
   "source": [
    "print(z)"
   ]
  },
  {
   "cell_type": "code",
   "execution_count": 8,
   "metadata": {},
   "outputs": [
    {
     "data": {
      "text/html": [
       "<table>\n",
       "<thead><tr><th scope=col>skim_variable</th><th scope=col>skim_type</th><th scope=col>missing</th><th scope=col>complete</th><th scope=col>n</th><th scope=col>mean</th><th scope=col>sd</th><th scope=col>p0</th><th scope=col>p25</th><th scope=col>p50</th><th scope=col>p75</th><th scope=col>p100</th><th scope=col>hist</th><th scope=col>ordered</th><th scope=col>n_unique</th><th scope=col>top_counts</th></tr></thead>\n",
       "<tbody>\n",
       "\t<tr><td>Sepal.Length             </td><td>numeric                  </td><td>0                        </td><td>150                      </td><td>150                      </td><td>5.843333                 </td><td>0.8280661                </td><td>4.3                      </td><td>5.1                      </td><td>5.80                     </td><td>6.4                      </td><td>7.9                      </td><td>▆▇▇▅▂                    </td><td>   NA                    </td><td>NA                       </td><td>NA                       </td></tr>\n",
       "\t<tr><td>Sepal.Width              </td><td>numeric                  </td><td>0                        </td><td>150                      </td><td>150                      </td><td>3.057333                 </td><td>0.4358663                </td><td>2.0                      </td><td>2.8                      </td><td>3.00                     </td><td>3.3                      </td><td>4.4                      </td><td>▁▆▇▂▁                    </td><td>   NA                    </td><td>NA                       </td><td>NA                       </td></tr>\n",
       "\t<tr><td>Petal.Length             </td><td>numeric                  </td><td>0                        </td><td>150                      </td><td>150                      </td><td>3.758000                 </td><td>1.7652982                </td><td>1.0                      </td><td>1.6                      </td><td>4.35                     </td><td>5.1                      </td><td>6.9                      </td><td>▇▁▆▇▂                    </td><td>   NA                    </td><td>NA                       </td><td>NA                       </td></tr>\n",
       "\t<tr><td>Petal.Width              </td><td>numeric                  </td><td>0                        </td><td>150                      </td><td>150                      </td><td>1.199333                 </td><td>0.7622377                </td><td>0.1                      </td><td>0.3                      </td><td>1.30                     </td><td>1.8                      </td><td>2.5                      </td><td>▇▁▇▅▃                    </td><td>   NA                    </td><td>NA                       </td><td>NA                       </td></tr>\n",
       "\t<tr><td>Species                  </td><td>factor                   </td><td>0                        </td><td>150                      </td><td>150                      </td><td>      NA                 </td><td>       NA                </td><td> NA                      </td><td> NA                      </td><td>  NA                     </td><td> NA                      </td><td> NA                      </td><td>NA                       </td><td>FALSE                    </td><td> 3                       </td><td>set: 50, ver: 50, vir: 50</td></tr>\n",
       "</tbody>\n",
       "</table>\n"
      ],
      "text/latex": [
       "\\begin{tabular}{r|llllllllllllllll}\n",
       " skim\\_variable & skim\\_type & missing & complete & n & mean & sd & p0 & p25 & p50 & p75 & p100 & hist & ordered & n\\_unique & top\\_counts\\\\\n",
       "\\hline\n",
       "\t Sepal.Length              & numeric                   & 0                         & 150                       & 150                       & 5.843333                  & 0.8280661                 & 4.3                       & 5.1                       & 5.80                      & 6.4                       & 7.9                       & ▆▇▇▅▂                     &    NA                     & NA                        & NA                       \\\\\n",
       "\t Sepal.Width               & numeric                   & 0                         & 150                       & 150                       & 3.057333                  & 0.4358663                 & 2.0                       & 2.8                       & 3.00                      & 3.3                       & 4.4                       & ▁▆▇▂▁                     &    NA                     & NA                        & NA                       \\\\\n",
       "\t Petal.Length              & numeric                   & 0                         & 150                       & 150                       & 3.758000                  & 1.7652982                 & 1.0                       & 1.6                       & 4.35                      & 5.1                       & 6.9                       & ▇▁▆▇▂                     &    NA                     & NA                        & NA                       \\\\\n",
       "\t Petal.Width               & numeric                   & 0                         & 150                       & 150                       & 1.199333                  & 0.7622377                 & 0.1                       & 0.3                       & 1.30                      & 1.8                       & 2.5                       & ▇▁▇▅▃                     &    NA                     & NA                        & NA                       \\\\\n",
       "\t Species                   & factor                    & 0                         & 150                       & 150                       &       NA                  &        NA                 &  NA                       &  NA                       &   NA                      &  NA                       &  NA                       & NA                        & FALSE                     &  3                        & set: 50, ver: 50, vir: 50\\\\\n",
       "\\end{tabular}\n"
      ],
      "text/markdown": [
       "\n",
       "| skim_variable | skim_type | missing | complete | n | mean | sd | p0 | p25 | p50 | p75 | p100 | hist | ordered | n_unique | top_counts |\n",
       "|---|---|---|---|---|---|---|---|---|---|---|---|---|---|---|---|\n",
       "| Sepal.Length              | numeric                   | 0                         | 150                       | 150                       | 5.843333                  | 0.8280661                 | 4.3                       | 5.1                       | 5.80                      | 6.4                       | 7.9                       | ▆▇▇▅▂                     |    NA                     | NA                        | NA                        |\n",
       "| Sepal.Width               | numeric                   | 0                         | 150                       | 150                       | 3.057333                  | 0.4358663                 | 2.0                       | 2.8                       | 3.00                      | 3.3                       | 4.4                       | ▁▆▇▂▁                     |    NA                     | NA                        | NA                        |\n",
       "| Petal.Length              | numeric                   | 0                         | 150                       | 150                       | 3.758000                  | 1.7652982                 | 1.0                       | 1.6                       | 4.35                      | 5.1                       | 6.9                       | ▇▁▆▇▂                     |    NA                     | NA                        | NA                        |\n",
       "| Petal.Width               | numeric                   | 0                         | 150                       | 150                       | 1.199333                  | 0.7622377                 | 0.1                       | 0.3                       | 1.30                      | 1.8                       | 2.5                       | ▇▁▇▅▃                     |    NA                     | NA                        | NA                        |\n",
       "| Species                   | factor                    | 0                         | 150                       | 150                       |       NA                  |        NA                 |  NA                       |  NA                       |   NA                      |  NA                       |  NA                       | NA                        | FALSE                     |  3                        | set: 50, ver: 50, vir: 50 |\n",
       "\n"
      ],
      "text/plain": [
       "  skim_variable skim_type missing complete n   mean     sd        p0  p25 p50  p75 p100\n",
       "1 Sepal.Length  numeric   0       150      150 5.843333 0.8280661 4.3 5.1 5.80 6.4 7.9 \n",
       "2 Sepal.Width   numeric   0       150      150 3.057333 0.4358663 2.0 2.8 3.00 3.3 4.4 \n",
       "3 Petal.Length  numeric   0       150      150 3.758000 1.7652982 1.0 1.6 4.35 5.1 6.9 \n",
       "4 Petal.Width   numeric   0       150      150 1.199333 0.7622377 0.1 0.3 1.30 1.8 2.5 \n",
       "5 Species       factor    0       150      150       NA        NA  NA  NA   NA  NA  NA \n",
       "  hist  ordered n_unique top_counts               \n",
       "1 ▆▇▇▅▂    NA   NA       NA                       \n",
       "2 ▁▆▇▂▁    NA   NA       NA                       \n",
       "3 ▇▁▆▇▂    NA   NA       NA                       \n",
       "4 ▇▁▇▅▃    NA   NA       NA                       \n",
       "5 NA    FALSE    3       set: 50, ver: 50, vir: 50"
      ]
     },
     "metadata": {},
     "output_type": "display_data"
    }
   ],
   "source": [
    "z"
   ]
  }
 ],
 "metadata": {
  "kernelspec": {
   "display_name": "R",
   "language": "R",
   "name": "ir"
  },
  "language_info": {
   "codemirror_mode": "r",
   "file_extension": ".r",
   "mimetype": "text/x-r-source",
   "name": "R",
   "pygments_lexer": "r",
   "version": "3.5.2"
  }
 },
 "nbformat": 4,
 "nbformat_minor": 2
}
